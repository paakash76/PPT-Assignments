{
 "cells": [
  {
   "cell_type": "code",
   "execution_count": 1,
   "id": "ad7dacff",
   "metadata": {},
   "outputs": [
    {
     "name": "stdout",
     "output_type": "stream",
     "text": [
      "[0, 1]\n"
     ]
    }
   ],
   "source": [
    "# Q.1\n",
    "\n",
    "def two_sum(nums, target):\n",
    "    num_indices = {}  # Dictionary to store the numbers and their indices\n",
    "    \n",
    "    # Iterate over the array\n",
    "    for i, num in enumerate(nums):\n",
    "        complement = target - num\n",
    "        \n",
    "        # Check if the complement is already in the dictionary\n",
    "        if complement in num_indices:\n",
    "            return [num_indices[complement], i]  # Return the indices of the two numbers\n",
    "        \n",
    "        num_indices[num] = i  # Store the number and its index in the dictionary\n",
    "    \n",
    "    return []  # If no solution is found\n",
    "\n",
    "# Example usage\n",
    "nums = [2, 7, 11, 15]\n",
    "target = 9\n",
    "result = two_sum(nums, target)\n",
    "print(result)  # Output: [0, 1]"
   ]
  },
  {
   "cell_type": "markdown",
   "id": "be2bafd7",
   "metadata": {},
   "source": [
    "To solve this problem, we can use a two-pointer approach. Above is the Python code snippet that finds the indices of two numbers in an array that add up to a given target.\n",
    "\n",
    "In this code, we iterate over the array nums using a for loop and keep track of the numbers and their indices using a dictionary num_indices. For each number, we calculate the complement (the difference between the target and the current number). If the complement is already present in num_indices, it means we have found the two numbers that add up to the target, so we return their indices. Otherwise, we store the current number and its index in the num_indices dictionary.\n",
    "\n",
    "By running this code, you will get the output [0, 1], which represents the indices of the two numbers (2 and 7) that add up to the target value of 9."
   ]
  },
  {
   "cell_type": "code",
   "execution_count": 2,
   "id": "c32d030c",
   "metadata": {},
   "outputs": [
    {
     "name": "stdout",
     "output_type": "stream",
     "text": [
      "Output: 2\n",
      "nums: [2, 2, 2, 3]\n"
     ]
    }
   ],
   "source": [
    "# Q.2\n",
    "\n",
    "def remove_element(nums, val):\n",
    "    k = 0  # Counter for the number of elements not equal to val\n",
    "    \n",
    "    # Iterate over the array using two pointers\n",
    "    for i in range(len(nums)):\n",
    "        if nums[i] != val:\n",
    "            nums[k] = nums[i]  # Overwrite the value at index k with the current non-val element\n",
    "            k += 1  # Increment the counter\n",
    "    \n",
    "    return k\n",
    "\n",
    "# Example usage\n",
    "nums = [3, 2, 2, 3]\n",
    "val = 3\n",
    "k = remove_element(nums, val)\n",
    "print(\"Output:\", k)\n",
    "print(\"nums:\", nums)"
   ]
  },
  {
   "cell_type": "markdown",
   "id": "02876aed",
   "metadata": {},
   "source": [
    "To solve this problem, we can use the two-pointer technique to remove the occurrences of val in the nums array in-place. Above is the Python code snippet that demonstrates this.\n",
    "\n",
    "In this code, we maintain a counter k to keep track of the number of elements not equal to val. We iterate over the nums array using a for loop and compare each element with val. If the element is not equal to val, we overwrite the value at index k with the current non-val element and increment the counter k. This effectively removes the occurrences of val from the beginning of the array. Finally, we return the value of k as the number of elements not equal to val in nums.\n",
    "\n",
    "By running this code, you will get the output 2, which represents the number of elements in nums that are not equal to val. The updated nums array will have the non-val elements at the beginning, with the remaining elements being placeholders (indicated by _ in the example)."
   ]
  },
  {
   "cell_type": "code",
   "execution_count": 3,
   "id": "6a5e2856",
   "metadata": {},
   "outputs": [
    {
     "name": "stdout",
     "output_type": "stream",
     "text": [
      "Output: 2\n"
     ]
    }
   ],
   "source": [
    "# Q.3\n",
    "\n",
    "def search_insert(nums, target):\n",
    "    left, right = 0, len(nums) - 1\n",
    "\n",
    "    while left <= right:\n",
    "        mid = left + (right - left) // 2\n",
    "\n",
    "        if nums[mid] == target:\n",
    "            return mid\n",
    "\n",
    "        if nums[mid] < target:\n",
    "            left = mid + 1\n",
    "        else:\n",
    "            right = mid - 1\n",
    "\n",
    "    return left\n",
    "\n",
    "# Example usage\n",
    "nums = [1, 3, 5, 6]\n",
    "target = 5\n",
    "result = search_insert(nums, target)\n",
    "print(\"Output:\", result)"
   ]
  },
  {
   "cell_type": "markdown",
   "id": "04ce6787",
   "metadata": {},
   "source": [
    "To find the index of the target value in a sorted array or the index where it would be inserted, we can use the binary search algorithm. This algorithm has a runtime complexity of O(log n). Above is the Python code snippet that implements the binary search to solve this problem.\n",
    "\n",
    "In this code, we initialize two pointers left and right to the start and end of the nums array. We then enter a while loop, where we calculate the middle index mid using the formula left + (right - left) // 2. We compare the value at mid with the target value. If they are equal, we return mid as the index of the target value. If the value at mid is less than the target, we update left to mid + 1 to search the right half of the array. Otherwise, we update right to mid - 1 to search the left half of the array.\n",
    "\n",
    "If the target value is not found in the array, the while loop will terminate, and we return left as the index where the target value would be inserted to maintain the sorted order.\n",
    "\n",
    "By running this code, you will get the output 2, which represents the index of the target value 5 in the nums array."
   ]
  },
  {
   "cell_type": "code",
   "execution_count": 4,
   "id": "2b673bdc",
   "metadata": {},
   "outputs": [
    {
     "name": "stdout",
     "output_type": "stream",
     "text": [
      "Output: [1, 2, 4]\n"
     ]
    }
   ],
   "source": [
    "# Q.4\n",
    "\n",
    "def plus_one(digits):\n",
    "    n = len(digits)\n",
    "    \n",
    "    # Start from the rightmost digit\n",
    "    for i in range(n-1, -1, -1):\n",
    "        digits[i] += 1\n",
    "        \n",
    "        if digits[i] < 10:\n",
    "            return digits\n",
    "        else:\n",
    "            digits[i] = 0\n",
    "    \n",
    "    # If leftmost digit becomes 0, insert 1 at the beginning\n",
    "    digits.insert(0, 1)\n",
    "    return digits\n",
    "\n",
    "# Example usage\n",
    "digits = [1, 2, 3]\n",
    "result = plus_one(digits)\n",
    "print(\"Output:\", result)"
   ]
  },
  {
   "cell_type": "markdown",
   "id": "ea309521",
   "metadata": {},
   "source": [
    "To increment a large integer represented as an array of digits by one, we can follow these steps:\n",
    "\n",
    "a. Start from the rightmost digit of the array.\n",
    "b. Add 1 to the rightmost digit.\n",
    "c. If the result is less than 10 (i.e., it is a single-digit number), update the digit in the array and return the modified array.\n",
    "d. If the result is 10 or greater, set the digit to 0 and move to the next digit to the left.\n",
    "e. Repeat steps 2-4 until you have processed all the digits.\n",
    "f. If after processing all the digits, the leftmost digit becomes 0, insert a new digit 1 at the beginning of the array.\n",
    "\n",
    "Above is the Python code snippet that implements this algorithm.\n",
    "\n",
    "In this code, we iterate over the digits array from right to left using a for loop. We add 1 to each digit starting from the rightmost digit. If the resulting digit is less than 10, we return the modified array immediately. Otherwise, we set the digit to 0 and move to the next digit to the left.\n",
    "\n",
    "After processing all the digits, if the leftmost digit becomes 0, we insert a new digit 1 at the beginning of the array.\n",
    "\n",
    "By running this code, you will get the output [1, 2, 4], which represents the result of incrementing the large integer [1, 2, 3] by one."
   ]
  },
  {
   "cell_type": "code",
   "execution_count": 5,
   "id": "6543e9c8",
   "metadata": {},
   "outputs": [
    {
     "name": "stdout",
     "output_type": "stream",
     "text": [
      "Output: [1, 2, 2, 3, 5, 6]\n"
     ]
    }
   ],
   "source": [
    "# Q.5\n",
    "\n",
    "def merge(nums1, m, nums2, n):\n",
    "    # Initialize two pointers for nums1 and nums2\n",
    "    p1 = m - 1\n",
    "    p2 = n - 1\n",
    "    p = m + n - 1\n",
    "\n",
    "    # Merge the arrays from the rightmost elements\n",
    "    while p1 >= 0 and p2 >= 0:\n",
    "        if nums1[p1] <= nums2[p2]:\n",
    "            nums1[p] = nums2[p2]\n",
    "            p2 -= 1\n",
    "        else:\n",
    "            nums1[p] = nums1[p1]\n",
    "            p1 -= 1\n",
    "        p -= 1\n",
    "\n",
    "    # Copy any remaining elements from nums2 to nums1\n",
    "    nums1[:p2 + 1] = nums2[:p2 + 1]\n",
    "\n",
    "# Example usage\n",
    "nums1 = [1, 2, 3, 0, 0, 0]\n",
    "m = 3\n",
    "nums2 = [2, 5, 6]\n",
    "n = 3\n",
    "\n",
    "merge(nums1, m, nums2, n)\n",
    "print(\"Output:\", nums1)"
   ]
  },
  {
   "cell_type": "markdown",
   "id": "83d3e07e",
   "metadata": {},
   "source": [
    "To merge two sorted arrays nums1 and nums2 into nums1 in a non-decreasing order, we can use a two-pointer approach. Above is the Python code snippet that demonstrates this.\n",
    "\n",
    "In this code, we initialize three pointers: p1 points to the last non-zero element in nums1, p2 points to the last element in nums2, and p points to the last position in nums1 where the merged elements will be placed.\n",
    "\n",
    "We start comparing the elements from the rightmost side of nums1 and nums2. If the element at nums1[p1] is smaller or equal to the element at nums2[p2], we place nums2[p2] at nums1[p] and decrement p2 and p by 1. Otherwise, we place nums1[p1] at nums1[p] and decrement p1 and p by 1. We repeat this process until we have compared all elements in both arrays.\n",
    "\n",
    "After the loop, if there are any remaining elements in nums2, we copy them to the beginning of nums1.\n",
    "\n",
    "By running this code, you will get the output [1, 2, 2, 3, 5, 6], which represents the merged array with elements from both nums1 and nums2 in non-decreasing order."
   ]
  },
  {
   "cell_type": "code",
   "execution_count": 6,
   "id": "0c82ebbd",
   "metadata": {},
   "outputs": [
    {
     "name": "stdout",
     "output_type": "stream",
     "text": [
      "Output: True\n"
     ]
    }
   ],
   "source": [
    "# Q.6\n",
    "\n",
    "def contains_duplicate(nums):\n",
    "    seen = set()\n",
    "\n",
    "    for num in nums:\n",
    "        if num in seen:\n",
    "            return True\n",
    "        seen.add(num)\n",
    "\n",
    "    return False\n",
    "\n",
    "# Example usage\n",
    "nums = [1, 2, 3, 1]\n",
    "result = contains_duplicate(nums)\n",
    "print(\"Output:\", result)"
   ]
  },
  {
   "cell_type": "markdown",
   "id": "7267aaf3",
   "metadata": {},
   "source": [
    "To check if any value appears at least twice in an integer array nums, we can utilize a set data structure to keep track of the unique elements seen so far. Above is the Python code snippet that solves this problem.\n",
    "\n",
    "In this code, we iterate over each element num in the nums array. For each element, we check if it is already present in the seen set. If it is, we return True since we have encountered a duplicate element. Otherwise, we add the element to the seen set.\n",
    "\n",
    "If we have iterated through the entire array without finding any duplicates, we return False to indicate that all the elements in the array are distinct.\n",
    "\n",
    "By running this code, you will get the output True since the array [1, 2, 3, 1] contains the duplicate element 1."
   ]
  },
  {
   "cell_type": "code",
   "execution_count": 7,
   "id": "15b968aa",
   "metadata": {},
   "outputs": [
    {
     "name": "stdout",
     "output_type": "stream",
     "text": [
      "Output: [1, 3, 12, 0, 0]\n"
     ]
    }
   ],
   "source": [
    "# Q.7\n",
    "\n",
    "def move_zeros(nums):\n",
    "    # Initialize a pointer to track the position of the next non-zero element\n",
    "    next_non_zero = 0\n",
    "\n",
    "    # Move non-zero elements to the left side of the array\n",
    "    for num in nums:\n",
    "        if num != 0:\n",
    "            nums[next_non_zero] = num\n",
    "            next_non_zero += 1\n",
    "\n",
    "    # Fill the remaining positions with zeros\n",
    "    for i in range(next_non_zero, len(nums)):\n",
    "        nums[i] = 0\n",
    "\n",
    "# Example usage\n",
    "nums = [0, 1, 0, 3, 12]\n",
    "move_zeros(nums)\n",
    "print(\"Output:\", nums)"
   ]
  },
  {
   "cell_type": "markdown",
   "id": "3a4efd33",
   "metadata": {},
   "source": [
    "To move all zeros to the end of an integer array nums while maintaining the relative order of the non-zero elements, we can use a two-pointer approach. Above is the Python code snippet that solves this problem.\n",
    "\n",
    "In this code, we use a variable next_non_zero to keep track of the position where the next non-zero element should be placed. We iterate over each element num in the nums array. If num is non-zero, we assign it to nums[next_non_zero] and increment next_non_zero by 1. This effectively moves all the non-zero elements to the left side of the array.\n",
    "\n",
    "After moving all non-zero elements, we fill the remaining positions from next_non_zero to the end of the array with zeros.\n",
    "\n",
    "By running this code, you will get the output [1, 3, 12, 0, 0], which represents the array with all the zeros moved to the end while maintaining the relative order of the non-zero elements."
   ]
  },
  {
   "cell_type": "code",
   "execution_count": 8,
   "id": "7256a411",
   "metadata": {},
   "outputs": [
    {
     "name": "stdout",
     "output_type": "stream",
     "text": [
      "Output: [2, 3]\n"
     ]
    }
   ],
   "source": [
    "# Q.8\n",
    "\n",
    "def find_error_nums(nums):\n",
    "    n = len(nums)\n",
    "    num_set = set()\n",
    "    duplicate_num = -1\n",
    "    missing_num = -1\n",
    "\n",
    "    # Find the duplicate number\n",
    "    for num in nums:\n",
    "        if num in num_set:\n",
    "            duplicate_num = num\n",
    "        num_set.add(num)\n",
    "\n",
    "    # Find the missing number\n",
    "    for i in range(1, n + 1):\n",
    "        if i not in num_set:\n",
    "            missing_num = i\n",
    "\n",
    "    return [duplicate_num, missing_num]\n",
    "\n",
    "# Example usage\n",
    "nums = [1, 2, 2, 4]\n",
    "result = find_error_nums(nums)\n",
    "print(\"Output:\", result)"
   ]
  },
  {
   "cell_type": "markdown",
   "id": "ceb46f65",
   "metadata": {},
   "source": [
    "To find the number that occurs twice and the number that is missing in an integer array nums, we can utilize a set data structure to keep track of the numbers we have encountered so far. Above is the Python code snippet that solves this problem.\n",
    "\n",
    "In this code, we first initialize an empty set num_set to keep track of the numbers we have encountered. We also initialize variables duplicate_num and missing_num to store the duplicate number and the missing number, respectively.\n",
    "\n",
    "We iterate over each element num in the nums array. If num is already present in num_set, it means we have encountered the duplicate number, so we assign it to duplicate_num. Otherwise, we add num to num_set.\n",
    "\n",
    "After finding the duplicate number, we iterate from 1 to n + 1 (where n is the length of nums). For each number i, if it is not present in num_set, it means i is the missing number, so we assign it to missing_num.\n",
    "\n",
    "Finally, we return the array [duplicate_num, missing_num] as the output.\n",
    "\n",
    "By running this code, you will get the output [2, 3], which represents the duplicate number and the missing number in the nums array [1, 2, 2, 4]."
   ]
  }
 ],
 "metadata": {
  "kernelspec": {
   "display_name": "Python 3 (ipykernel)",
   "language": "python",
   "name": "python3"
  },
  "language_info": {
   "codemirror_mode": {
    "name": "ipython",
    "version": 3
   },
   "file_extension": ".py",
   "mimetype": "text/x-python",
   "name": "python",
   "nbconvert_exporter": "python",
   "pygments_lexer": "ipython3",
   "version": "3.9.12"
  }
 },
 "nbformat": 4,
 "nbformat_minor": 5
}
